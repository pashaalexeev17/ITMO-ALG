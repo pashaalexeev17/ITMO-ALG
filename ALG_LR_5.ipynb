{
  "nbformat": 4,
  "nbformat_minor": 0,
  "metadata": {
    "colab": {
      "provenance": []
    },
    "kernelspec": {
      "name": "python3",
      "display_name": "Python 3"
    },
    "language_info": {
      "name": "python"
    }
  },
  "cells": [
    {
      "cell_type": "markdown",
      "source": [
        "# **ЛАБОРАТОРНАЯ РАБОТА №5**\n",
        "\n",
        " "
      ],
      "metadata": {
        "id": "pbsgIFZnPL57"
      }
    },
    {
      "cell_type": "markdown",
      "source": [
        "## **Задание 1**\n",
        " Вор пробрался в музей и хочет украсть N экспонатов. У каждого экспоната есть свой вес и цена. Вор может сделать M заходов, каждый раз унося K кг веса. Определить, что должен унести вор, чтобы сумма украденного была максимальной."
      ],
      "metadata": {
        "id": "7pBNvX20wDXm"
      }
    },
    {
      "cell_type": "markdown",
      "source": [
        "Здесь мы следуем жадному алгоритму. Вор будет выбирать предметы с наибольшей удельной стоимостью (цена/вес) и уносить их, пока не достигнет максимального допустимого веса K или пока не закончатся предметы."
      ],
      "metadata": {
        "id": "Uq79hlZiIgg8"
      }
    },
    {
      "cell_type": "code",
      "execution_count": null,
      "metadata": {
        "id": "uUsr3bX_PGeY"
      },
      "outputs": [],
      "source": [
        "def find_most_valuable_items(items, m, k):\n",
        "\n",
        "    # Сортировка списка экспонатов по удельной стоимости (цена/вес) в порядке убывания\n",
        "    items.sort(key=lambda x: x['price'] / x['weight'], reverse=True)\n",
        "    \n",
        "    stolen_items = []\n",
        "    total_value = 0\n",
        "\n",
        "    for _ in range(m):\n",
        "\n",
        "        current_weight = 0\n",
        "\n",
        "        # Цикл для каждого экспоната\n",
        "        for item in items:\n",
        "\n",
        "            # Если текущий экспонат может быть унесён и его вес не превышает ограничение K\n",
        "            if item not in stolen_items and current_weight + item['weight'] <= k:\n",
        "              \n",
        "                stolen_items.append(item)\n",
        "                current_weight += item['weight']\n",
        "                total_value += item['price']\n",
        "\n",
        "                # Если текущий вес достиг максимального, прерываем цикл\n",
        "                if current_weight == k:\n",
        "                    break\n",
        "\n",
        "    return stolen_items, total_value"
      ]
    },
    {
      "cell_type": "code",
      "source": [
        "# Пример списка экспонатов\n",
        "items = [\n",
        "    {'name': 'item1', 'weight': 5, 'price': 3000},\n",
        "    {'name': 'item2', 'weight': 3, 'price': 2000},\n",
        "    {'name': 'item3', 'weight': 4, 'price': 1500},\n",
        "    {'name': 'item4', 'weight': 2, 'price': 1000},\n",
        "]\n",
        "\n",
        "m = 2   # Количество заходов\n",
        "k = 5  # Максимальный вес, который может унести вор\n",
        "\n",
        "stolen_items, total_value = find_most_valuable_items(items, m, k)\n",
        "\n",
        "print(\"Украденные предметы:\")\n",
        "\n",
        "for item in stolen_items:\n",
        "    print(item['name'])\n",
        "\n",
        "print(f\"Общая стоимость украденных предметов: {total_value}\")\n"
      ],
      "metadata": {
        "colab": {
          "base_uri": "https://localhost:8080/"
        },
        "id": "WViF2Lsl8cL_",
        "outputId": "6ab6bf64-7cd0-45cd-dc7d-576a8e47eb81"
      },
      "execution_count": null,
      "outputs": [
        {
          "output_type": "stream",
          "name": "stdout",
          "text": [
            "Украденные предметы:\n",
            "item2\n",
            "item4\n",
            "item1\n",
            "Общая стоимость украденных предметов: 6000\n"
          ]
        }
      ]
    },
    {
      "cell_type": "markdown",
      "source": [
        "## **Задание 2**\n",
        "\n",
        "Дана последовательность матриц A, B, C, … , Z таким образом, что с ними можно выполнить ассоциативные операции. Используя динамическое программирование, минимизируйте количество скалярных операций для нахождения их произведения.\n",
        " "
      ],
      "metadata": {
        "id": "BeKrV2w59OuS"
      }
    },
    {
      "cell_type": "markdown",
      "source": [
        "Ассоциативные операции - это математические операции, для которых порядок выполнения операций не влияет на результат."
      ],
      "metadata": {
        "id": "Tgkaer4tGhev"
      }
    },
    {
      "cell_type": "markdown",
      "source": [
        "Скалярные операции - это операции, которые выполняются между скалярами, т.е. числами или элементами поля. "
      ],
      "metadata": {
        "id": "eGr4L11fGnGj"
      }
    },
    {
      "cell_type": "markdown",
      "source": [
        "Алгоритм Матриц-Цейтласа - это алгоритм динамического программирования, используемый для определения оптимального порядка перемножения матриц с целью минимизации количества скалярных операций.\n",
        "\n"
      ],
      "metadata": {
        "id": "Qkh6DSDdIC8u"
      }
    },
    {
      "cell_type": "code",
      "source": [
        "import sys"
      ],
      "metadata": {
        "id": "xZUIO0lIDdu2"
      },
      "execution_count": null,
      "outputs": []
    },
    {
      "cell_type": "code",
      "source": [
        "def matrix_chain_order(dimensions): # принимает на вход размерность матриц\n",
        "\n",
        "    n = len(dimensions) - 1 # кол-во матриц \n",
        "\n",
        "    costs = [[0 for _ in range(n)] for _ in range(n)] # кол-во скалярных операций\n",
        "    splits = [[0 for _ in range(n)] for _ in range(n)] # индексы разделения\n",
        "\n",
        "    for chain_length in range(2, n + 1): #перебирает все возможные длины цепочек матриц.\n",
        "\n",
        "        for i in range(n - chain_length + 1): #перебирает все возможные начальные индексы для текущей длины цепочки.\n",
        "          \n",
        "            j = i + chain_length - 1 # перебирает все возможные разделения между матрицами в текущей цепочке и вычисляет затраты на перемножение.\n",
        "            costs[i][j] = sys.maxsize #хранит минимальные количество скалярных операций для каждой пары матриц. \n",
        "\n",
        "            for k in range(i, j): # перебирает все возможные разделения между матрицами в текущей цепочке и вычисляет затраты на перемножение\n",
        "\n",
        "                current_cost = costs[i][k] + costs[k + 1][j] + dimensions[i] * dimensions[k + 1] * dimensions[j + 1] # вычесляем текущую стоимость операций\n",
        "\n",
        "                if current_cost < costs[i][j]: \n",
        "\n",
        "                    costs[i][j] = current_cost\n",
        "                    splits[i][j] = k\n",
        "\n",
        "    return costs, splits"
      ],
      "metadata": {
        "id": "uRsFNtpz9U4A"
      },
      "execution_count": null,
      "outputs": []
    },
    {
      "cell_type": "code",
      "source": [
        "dimensions = [4, 30, 7, 20]  # Пример размеров матриц\n",
        "costs, splits = matrix_chain_order(dimensions)\n",
        "min_cost = costs[0][len(dimensions) - 2]\n",
        "\n",
        "\n",
        "print(f\"Минимальное количество скалярных операций: {min_cost}\")"
      ],
      "metadata": {
        "colab": {
          "base_uri": "https://localhost:8080/"
        },
        "id": "OBfCybA0Dnro",
        "outputId": "b286b67f-d7b5-4766-d9e6-8620df1a3d44"
      },
      "execution_count": null,
      "outputs": [
        {
          "output_type": "stream",
          "name": "stdout",
          "text": [
            "Минимальное количество скалярных операций: 1400\n"
          ]
        }
      ]
    },
    {
      "cell_type": "markdown",
      "source": [
        "## **Задание 3**\n",
        "Дан массив N, состоящий из n случайных целых чисел, находящихся в диапазоне от -100 до 100. Найти наибольшую непрерывную возрастающую последовательность из чисел внутри массива (длину серии, для которой верно N[i]<N[i+1]<N[i+2]<…<N[i+m], где i≥0, а i+m≤n-1)."
      ],
      "metadata": {
        "id": "IN9G1pvRHFpR"
      }
    },
    {
      "cell_type": "code",
      "source": [
        "def get_max_sequence(arr):\n",
        "  \n",
        "  prev = arr[0]\n",
        "  seq = [prev]\n",
        "  res = []\n",
        "\n",
        "  for i in range(1, len(arr)):\n",
        "\n",
        "    if prev < arr[i]:\n",
        "      seq.append(arr[i])\n",
        "    elif len(seq) > len(res):\n",
        "      res = seq[:]\n",
        "      seq = [arr[i]]\n",
        "    else:\n",
        "      seq = [arr[i]]\n",
        "\n",
        "    prev = arr[i]\n",
        "\n",
        "  return res"
      ],
      "metadata": {
        "id": "d35SRmeDCbio"
      },
      "execution_count": null,
      "outputs": []
    },
    {
      "cell_type": "code",
      "source": [
        "import random"
      ],
      "metadata": {
        "id": "BrJYeSSTJGiu"
      },
      "execution_count": null,
      "outputs": []
    },
    {
      "cell_type": "code",
      "source": [
        "n = 20\n",
        "arr = [random.randint(-100, 100) for i in range(n)]\n",
        "\n",
        "print(f'Массив: {arr}')\n",
        "print(f'Последовательность: {get_max_sequence(arr)}')"
      ],
      "metadata": {
        "colab": {
          "base_uri": "https://localhost:8080/"
        },
        "id": "EA9pdxAsJFC6",
        "outputId": "5178b63b-c71f-4e70-ebf5-bfae43dd3c4e"
      },
      "execution_count": null,
      "outputs": [
        {
          "output_type": "stream",
          "name": "stdout",
          "text": [
            "Массив: [97, 63, -6, -14, -43, -68, 61, 60, -39, -50, 24, -11, -53, 62, 44, 41, -59, 39, 78, 0]\n",
            "Последовательность: [-59, 39, 78]\n"
          ]
        }
      ]
    }
  ]
}