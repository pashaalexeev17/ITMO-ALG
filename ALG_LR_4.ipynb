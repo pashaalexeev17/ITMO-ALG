{
  "nbformat": 4,
  "nbformat_minor": 0,
  "metadata": {
    "colab": {
      "provenance": [],
      "collapsed_sections": [
        "qx3a_mE6L7F9",
        "shGyg1lpMU65",
        "JM85zHDhwubp"
      ]
    },
    "kernelspec": {
      "name": "python3",
      "display_name": "Python 3"
    },
    "language_info": {
      "name": "python"
    }
  },
  "cells": [
    {
      "cell_type": "markdown",
      "source": [
        "# **Лабораторная работа № 5. Алгоритмы поиска подстрок**"
      ],
      "metadata": {
        "id": "UIY2zrv_0-L9"
      }
    },
    {
      "cell_type": "markdown",
      "source": [
        "## **Задание 1**\n",
        "Заполните массив 500 числами (четный вариант – простые числа, нечетный вариант – числа Фибоначчи) написанными слитно. Используя каждый изученный алгоритм поиска подстрок (наивный, Рабина-Карпа, Бойера-Мура, Кнута-Морриса-Пратта), посчитайте количество наиболее часто встречающихся двузначных чисел в образовавшейся строке. Сравните изученные алгоритмы поиска подстрок. Сделайте вывод о их достоинствах и недостатках."
      ],
      "metadata": {
        "id": "LDWzpsAyxuOE"
      }
    },
    {
      "cell_type": "markdown",
      "source": [
        "### **Функция для создания чисел Фиббоначи**"
      ],
      "metadata": {
        "id": "nFihUZ-cMMBF"
      }
    },
    {
      "cell_type": "code",
      "execution_count": null,
      "metadata": {
        "id": "AxrEAmyh0G41"
      },
      "outputs": [],
      "source": [
        "def generate_fibonacci_concatenated(n):\n",
        "    if n <= 0:\n",
        "        return []\n",
        "\n",
        "    fibonacci_numbers = [0, 1]\n",
        "    concatenated_fibonacci = \"01\"\n",
        "\n",
        "    while len(concatenated_fibonacci) < n:\n",
        "        next_number = fibonacci_numbers[-1] + fibonacci_numbers[-2]\n",
        "        fibonacci_numbers.append(next_number)\n",
        "        concatenated_fibonacci += str(next_number)\n",
        "\n",
        "    return concatenated_fibonacci[:n]"
      ]
    },
    {
      "cell_type": "code",
      "source": [
        "n = 500\n",
        "result = generate_fibonacci_concatenated(n)\n",
        "print(result)"
      ],
      "metadata": {
        "colab": {
          "base_uri": "https://localhost:8080/"
        },
        "id": "UVon1Doh4CNz",
        "outputId": "1f369c0c-5a6e-49d4-ee1a-1f305d454580"
      },
      "execution_count": null,
      "outputs": [
        {
          "output_type": "stream",
          "name": "stdout",
          "text": [
            "01123581321345589144233377610987159725844181676510946177112865746368750251213931964183178115142298320401346269217830935245785702887922746514930352241578173908816963245986102334155165580141267914296433494437701408733113490317018363119032971215073480752697677787420491258626902520365011074329512800995331629117386267571272139583862445225851433717365435296162591286729879956722026041154800875592025047307819614052739537881655747031984210610209857723171676801775652777789003528844945570212853727234602481\n"
          ]
        }
      ]
    },
    {
      "cell_type": "markdown",
      "source": [
        "### **Наивный алгоритм поиска**\n",
        "– прямое последовательное сравнение шаблона с элементами строки."
      ],
      "metadata": {
        "id": "qx3a_mE6L7F9"
      }
    },
    {
      "cell_type": "markdown",
      "source": [
        "\n",
        "Лучший случай: O(n), где n - длина текста\n",
        "\n",
        "Средний случай: O(nm), где n - длина текста, m - длина образца\n",
        "\n",
        "Худший случай: O(nm)"
      ],
      "metadata": {
        "id": "hsNUBu1nqa1-"
      }
    },
    {
      "cell_type": "code",
      "source": [
        "def most_frequent_two_digit_numbers(concatenated_fibonacci):\n",
        "    counts = {}\n",
        "\n",
        "    for i in range(len(concatenated_fibonacci) - 1):\n",
        "\n",
        "        two_digit_number = int(concatenated_fibonacci[i:i+2]) #смотрим все двухзначные числа в списке\n",
        "\n",
        "        if two_digit_number not in counts:\n",
        "            counts[two_digit_number] = 1\n",
        "        else:\n",
        "            counts[two_digit_number] += 1\n",
        "\n",
        "    max_count = max(counts.values())\n",
        "    most_frequent_numbers = [number for number, count in counts.items() if count == max_count]\n",
        "\n",
        "    return most_frequent_numbers, max_count"
      ],
      "metadata": {
        "id": "JN8fxrtk8PRv"
      },
      "execution_count": null,
      "outputs": []
    },
    {
      "cell_type": "code",
      "source": [
        "most_frequent_numbers, frequency = most_frequent_two_digit_numbers(result)\n",
        "print(f\"Наиболее часто встречающиеся двузначные числа: {most_frequent_numbers}\")\n",
        "print(f\"Количество повторений: {frequency}\")"
      ],
      "metadata": {
        "colab": {
          "base_uri": "https://localhost:8080/"
        },
        "id": "Wpl6uJAnLr3_",
        "outputId": "5cccb594-c8a3-4787-971d-c2200357f3ed"
      },
      "execution_count": null,
      "outputs": [
        {
          "output_type": "stream",
          "name": "stdout",
          "text": [
            "Наиболее часто встречающиеся двузначные числа: [12, 77]\n",
            "Количество повторений: 10\n"
          ]
        }
      ]
    },
    {
      "cell_type": "markdown",
      "source": [
        "### **Алгоритм Рабина-Карпа**\n",
        "– алгоритм, который ускорить работу наивного алгоритма за счет использования хэш-функции. "
      ],
      "metadata": {
        "id": "shGyg1lpMU65"
      }
    },
    {
      "cell_type": "markdown",
      "source": [
        "Будем использовать хэшировние с модульной арифметикой, для того чтобы избежать переполнения, но при этом получать корректные результаты хеширования мы для всех промежуточных результатов вычислений будем брать остаток от деления."
      ],
      "metadata": {
        "id": "2pe8RvRnRZB1"
      }
    },
    {
      "cell_type": "markdown",
      "source": [
        "Лучший случай: O(n), где n - длина текста\n",
        "\n",
        "Средний случай: O(n + m), где n - длина текста, m - длина образца\n",
        "\n",
        "Худший случай: O(nm), но это крайне редко происходит при использовании хорошего хеш-функции и модуля"
      ],
      "metadata": {
        "id": "cud3MFYAqhSy"
      }
    },
    {
      "cell_type": "code",
      "source": [
        "def rabin_karp(text, pattern, d=10, q=997): # d - основание хэширования, у нас 10 числа поэтому 10. q - модуль, по которому берется остаток при вычислении хэш-значений.\n",
        "\n",
        "    m = len(pattern)  \n",
        "    n = len(text) \n",
        "    h = pow(d, m - 1) % q  # Вычисление коэффициента хэширования\n",
        "    p = 0  # Хэш-значение подстроки \n",
        "    t = 0  # Хэш-значение части текста, с которой сравнивается подстрока\n",
        "    result = 0  # Количество повторений двузначного числа\n",
        "\n",
        "    # Инициализация хэш-значений подстроки и части текста\n",
        "    for i in range(m):\n",
        "        p = (d * p + int(pattern[i])) % q\n",
        "        t = (d * t + int(text[i])) % q\n",
        "\n",
        "\n",
        "    # Проход по тексту и сравнение хэш-значений\n",
        "    for s in range(n - m + 1): #проходим по всем возможным n-m+1 начальным позициям для подстроки pattern в строке text\n",
        "\n",
        "        if p == t:\n",
        "            # Если хэш-значения совпадают, проверка на совпадение подстроки и части текста\n",
        "            match = True\n",
        "\n",
        "            \n",
        "            for i in range(m):\n",
        "                if pattern[i] != text[s + i]:\n",
        "                    match = False\n",
        "                    break\n",
        "            if match:\n",
        "                result += 1\n",
        "        if s < n - m:\n",
        "            # Обновление хэш-значения части текста\n",
        "            t = (d * (t - int(text[s]) * h) + int(text[s + m])) % q\n",
        "\n",
        "    return result\n"
      ],
      "metadata": {
        "id": "B3d2o1nsMb_B"
      },
      "execution_count": null,
      "outputs": []
    },
    {
      "cell_type": "code",
      "source": [
        "def rabin_karp_most_frequent_two_digit_numbers(concatenated_fibonacci):\n",
        "    counts = {}  # Словарь для хранения количества повторений каждого двузначного числа\n",
        "\n",
        "    # Вычисление количества повторений для каждого двузначного числа (от 10 до 99)\n",
        "    for i in range(10, 100):\n",
        "        pattern = str(i)\n",
        "        count = rabin_karp(concatenated_fibonacci, pattern)\n",
        "        counts[i] = count\n",
        "\n",
        "    max_count = 0  # Максимальное количество повторений\n",
        "    most_frequent_numbers = []  # Список наиболее часто встречающихся чисел\n",
        "\n",
        "    # Нахождение наиболее часто встречающихся чисел и их количества повторений\n",
        "    for number, count in counts.items():\n",
        "        if count > max_count:\n",
        "            max_count = count\n",
        "            most_frequent_numbers = [number]\n",
        "        elif count == max_count:\n",
        "            most_frequent_numbers.append(number)\n",
        "\n",
        "    return most_frequent_numbers, max_count"
      ],
      "metadata": {
        "id": "QWw8UdLBS2Kg"
      },
      "execution_count": null,
      "outputs": []
    },
    {
      "cell_type": "code",
      "source": [
        "most_frequent_number, max_count = rabin_karp_most_frequent_two_digit_numbers(result)\n",
        "print(f\"Наиболее часто встречающееся двузначное число: {most_frequent_number}\")\n",
        "print(f\"Количество повторений: {max_count}\")"
      ],
      "metadata": {
        "colab": {
          "base_uri": "https://localhost:8080/"
        },
        "id": "iQ1cAxcAN-vC",
        "outputId": "28a56464-abd0-4a51-ecd4-91587bee94d0"
      },
      "execution_count": null,
      "outputs": [
        {
          "output_type": "stream",
          "name": "stdout",
          "text": [
            "Наиболее часто встречающееся двузначное число: [12, 77]\n",
            "Количество повторений: 10\n"
          ]
        }
      ]
    },
    {
      "cell_type": "markdown",
      "source": [
        "### **Алгоритм Бойера-Мура**\n",
        "– алгоритм, который сдвигает шаблон или до первого совпадающего символа, или на длину шаблона. "
      ],
      "metadata": {
        "id": "tE__vQLJmkwX"
      }
    },
    {
      "cell_type": "markdown",
      "source": [
        "Лучший случай: O(n/m), где n - длина текста, m - длина образца\n",
        "\n",
        "Средний случай: O(n), где n - длина текста\n",
        "\n",
        "Худший случай: O(nm), но этот случай возникает редко для типичных текстов и образцов"
      ],
      "metadata": {
        "id": "BrsdeOBkq4X_"
      }
    },
    {
      "cell_type": "code",
      "source": [
        "def boyer_moore_search_simple(text, pattern):\n",
        "    pattern_length = len(pattern)\n",
        "    text_length = len(text)\n",
        "\n",
        "    count = 0\n",
        "    index = 0\n",
        "\n",
        "    while index <= text_length - pattern_length:\n",
        "        shift = 1\n",
        "        match = True\n",
        "\n",
        "        for i in reversed(range(pattern_length)):\n",
        "            if pattern[i] != text[index + i]: #сравнение текущего символа паттерна с текстом \n",
        "                shift = max(1, pattern_length - i) #сдвиг либо на один символ либо на длину шаблона \n",
        "                match = False\n",
        "                break\n",
        "\n",
        "        if match:\n",
        "            count += 1\n",
        "            shift = 1\n",
        "\n",
        "        index += shift\n",
        "\n",
        "    return count"
      ],
      "metadata": {
        "id": "rvzvpC1th4ln"
      },
      "execution_count": null,
      "outputs": []
    },
    {
      "cell_type": "code",
      "source": [
        "def most_frequent_two_digit_numbers_simple(big_number):\n",
        "  \n",
        "    big_number_str = str(big_number)\n",
        "    max_count = 0\n",
        "    most_frequent_numbers = []\n",
        "\n",
        "    for i in range(10, 100):\n",
        "        pattern = str(i)\n",
        "        count = boyer_moore_search_simple(big_number_str, pattern)\n",
        "\n",
        "        if count > max_count:\n",
        "            max_count = count\n",
        "            most_frequent_numbers = [i]\n",
        "        elif count == max_count:\n",
        "            most_frequent_numbers.append(i)\n",
        "\n",
        "    return most_frequent_numbers, max_count"
      ],
      "metadata": {
        "id": "-zxjdERbcAvE"
      },
      "execution_count": null,
      "outputs": []
    },
    {
      "cell_type": "code",
      "source": [
        "most_frequent_numbers, max_count = most_frequent_two_digit_numbers_simple(result)\n",
        "\n",
        "print(\"Наиболее часто встречающиеся двузначные числа:\", most_frequent_numbers)\n",
        "print(\"Количество вхождений:\", max_count)"
      ],
      "metadata": {
        "colab": {
          "base_uri": "https://localhost:8080/"
        },
        "id": "4-6jaQzbcCjQ",
        "outputId": "83c49693-8316-4045-9262-aa2c34fe1947"
      },
      "execution_count": null,
      "outputs": [
        {
          "output_type": "stream",
          "name": "stdout",
          "text": [
            "Наиболее часто встречающиеся двузначные числа: [12]\n",
            "Количество вхождений: 10\n"
          ]
        }
      ]
    },
    {
      "cell_type": "markdown",
      "source": [
        "В данном случае наш алгоритм находит только одно число 12, но по сути их должно быть два, т.е 12 и 77. Это происходит потому что, алгоритм видет 2 вхождения 77 в значение 7777, а не 3 как должно быть. Когда алгоритм находит первое совпадение 77, он сдвигает окно на определенное количество позиций (на длину образца). В результате этого сдвига алгоритм может пропустить следующее вхождение 77, потому что оно перекрывается с первым вхождением."
      ],
      "metadata": {
        "id": "JRDdRrkDctPt"
      }
    },
    {
      "cell_type": "markdown",
      "source": [
        "### **Алгоритм Кнута-Морриса-Пратта**\n",
        "\n",
        "– эффективный алгоритм, время работы которого линейно зависит от входных данных."
      ],
      "metadata": {
        "id": "JM85zHDhwubp"
      }
    },
    {
      "cell_type": "markdown",
      "source": [
        "Префикс-функция (π) – максимальная длина совпадающих суффиксов и префиксов, для каждого префикса строки, не равных длине самой подстроки (самого префикса)"
      ],
      "metadata": {
        "id": "X4j3QJ5Sk06B"
      }
    },
    {
      "cell_type": "markdown",
      "source": [
        "Лучший случай: O(n), где n - длина текста\n",
        "\n",
        "Средний случай: O(n), где n - длина текста\n",
        "\n",
        "Худший случай: O(n), где n - длина текста"
      ],
      "metadata": {
        "id": "xLdVXmG3q884"
      }
    },
    {
      "cell_type": "code",
      "source": [
        "def kmp_search(text, pattern):\n",
        "\n",
        "    n = len(text)\n",
        "    m = len(pattern)\n",
        "\n",
        "    # Вычисление префикс-функции для подстроки pattern\n",
        "    pi = [0] * m\n",
        "    j = 0\n",
        "    for i in range(1, m):\n",
        "      \n",
        "        while j > 0 and pattern[j] != pattern[i]:\n",
        "            j = pi[j-1]\n",
        "\n",
        "        if pattern[j] == pattern[i]:\n",
        "            j += 1\n",
        "\n",
        "        pi[i] = j\n",
        "\n",
        "\n",
        "\n",
        "\n",
        "    # Поиск вхождений подстроки pattern в строке text\n",
        "    j = 0\n",
        "    indices = []\n",
        "    for i in range(n):\n",
        "        while j > 0 and pattern[j] != text[i]:\n",
        "            j = pi[j-1]\n",
        "        if pattern[j] == text[i]:\n",
        "            j += 1\n",
        "        if j == m:\n",
        "            indices.append(i-m+1)\n",
        "            j = pi[j-1]\n",
        "\n",
        "    return indices"
      ],
      "metadata": {
        "id": "ds1Vm3eDwvDT"
      },
      "execution_count": null,
      "outputs": []
    },
    {
      "cell_type": "code",
      "source": [
        "def count_most_common(text):\n",
        "\n",
        "    numbers = [str(i) for i in range(10, 100)]\n",
        "\n",
        "# Подсчет количества вхождений каждого числа\n",
        "    counts = {number: 0 for number in numbers}\n",
        "    for number in numbers:\n",
        "        indices = kmp_search(text, number)\n",
        "        counts[number] = len(indices)\n",
        "\n",
        "# Нахождение чисел с максимальным количеством вхождений\n",
        "    max_count = 0\n",
        "    max_numbers = []\n",
        "    for number, count in counts.items():\n",
        "        if count > max_count:\n",
        "            max_count = count\n",
        "            max_numbers = [number]\n",
        "        elif count == max_count:\n",
        "            max_numbers.append(number)\n",
        "\n",
        "    return [(number, count) for number, count in counts.items() if number in max_numbers]"
      ],
      "metadata": {
        "id": "pdocTX66wwFI"
      },
      "execution_count": null,
      "outputs": []
    },
    {
      "cell_type": "code",
      "source": [
        "most_common = count_most_common(result)\n",
        "\n",
        "print(f\"Наиболее часто встречающееся двузначное число: {most_common[0][0], most_common[1][0]}\")\n",
        "print(f\"Количество повторений: {most_common[1][1]}\")"
      ],
      "metadata": {
        "colab": {
          "base_uri": "https://localhost:8080/"
        },
        "id": "XoW3Kw7WxFQi",
        "outputId": "04f7f381-847c-4d60-d4a5-68f0c8320204"
      },
      "execution_count": null,
      "outputs": [
        {
          "output_type": "stream",
          "name": "stdout",
          "text": [
            "Наиболее часто встречающееся двузначное число: ('12', '77')\n",
            "Количество повторений: 10\n"
          ]
        }
      ]
    },
    {
      "cell_type": "markdown",
      "source": [
        "### **ИТОГ**"
      ],
      "metadata": {
        "id": "_RSGAgxr45kz"
      }
    },
    {
      "cell_type": "markdown",
      "source": [
        "**Наивный алгоритм**\n",
        "\n",
        "*Достоинства*:\n",
        "\n",
        "\n",
        "*   Прост в реализации и понимании\n",
        "*   Работает на всех типах данных\n",
        "\n",
        "\n",
        "*Недостатки*:\n",
        "\n",
        "\n",
        "\n",
        "*   Имеет наихудшую временную сложность O(nm)\n",
        "*   Неэффективен для длинных строк и подстрок\n",
        "\n",
        "\n",
        "**Алгоритм Рабина-Карпа**\n",
        "\n",
        "*Достоинства:*\n",
        "\n",
        "\n",
        "*  Хорошо работает на случайных данных\n",
        "*  Временная сложность в среднем O(n+m), лучше чем у наивного алгоритма\n",
        "\n",
        "*Недостатки*:\n",
        "\n",
        "*   В худшем случае может иметь временную сложность O(nm)\n",
        "*   Может давать ложные срабатывания\n",
        "\n",
        "\n",
        "**Алгоритм Бойера-Мура**\n",
        "\n",
        "*Достоинства:*\n",
        "\n",
        "*   Временная сложность в худшем случае O(n/m), что делает его одним из самых быстрых алгоритмов\n",
        "*   Очень эффективен на практике\n",
        "*   Имеет меньшую вероятность ложных срабатываний, чем алгоритм Рабина-Карпа\n",
        "\n",
        "\n",
        "*Недостатки:*\n",
        "\n",
        "\n",
        "*   Требует дополнительной памяти для хранения таблицы смещений\n",
        "*   Неэффективен на небольших строках.\n",
        "\n",
        "\n",
        "\n",
        "**Алгоритм Кнута-Морриса-Пратта**\n",
        "\n",
        "*Достоинства:*\n",
        "\n",
        "\n",
        "*   Временная сложность O(n+m) в худшем случае\n",
        "*   Эффективен на практике\n",
        "*   Не дает ложных срабатываний\n",
        "\n",
        "*Недостатки:*\n",
        "\n",
        "\n",
        "\n",
        "*   Требует дополнительной памяти для хранения префикс-функции\n",
        "*   Неэффективен на коротких строках"
      ],
      "metadata": {
        "id": "bA8wdS6G48f5"
      }
    },
    {
      "cell_type": "markdown",
      "source": [
        "## **Задание 2**"
      ],
      "metadata": {
        "id": "rX9yIB9Kxczk"
      }
    },
    {
      "cell_type": "markdown",
      "source": [
        "Дан набор рефератов. Выберите любой алгоритм поиска и определите количество плагиата (в % от общего количества символов в реферате) в тексте реферата, взяв за основу соответствующие статьи из Википедии (название файла = название статьи). За плагиат считать любые 3 совпавших слова, идущих подряд. Обоснуйте выбранный алгоритм поиска."
      ],
      "metadata": {
        "id": "CofzZ5mbxfo7"
      }
    },
    {
      "cell_type": "code",
      "source": [
        "!pip install python-docx wikipedia-api"
      ],
      "metadata": {
        "colab": {
          "base_uri": "https://localhost:8080/"
        },
        "id": "s3eMfGjiHL74",
        "outputId": "3c405215-1e20-4b3a-f0fc-7e99edaa8e42"
      },
      "execution_count": null,
      "outputs": [
        {
          "output_type": "stream",
          "name": "stdout",
          "text": [
            "Looking in indexes: https://pypi.org/simple, https://us-python.pkg.dev/colab-wheels/public/simple/\n",
            "Requirement already satisfied: python-docx in /usr/local/lib/python3.9/dist-packages (0.8.11)\n",
            "Collecting wikipedia-api\n",
            "  Downloading Wikipedia_API-0.5.8-py3-none-any.whl (13 kB)\n",
            "Requirement already satisfied: lxml>=2.3.2 in /usr/local/lib/python3.9/dist-packages (from python-docx) (4.9.2)\n",
            "Requirement already satisfied: requests in /usr/local/lib/python3.9/dist-packages (from wikipedia-api) (2.27.1)\n",
            "Requirement already satisfied: charset-normalizer~=2.0.0 in /usr/local/lib/python3.9/dist-packages (from requests->wikipedia-api) (2.0.12)\n",
            "Requirement already satisfied: urllib3<1.27,>=1.21.1 in /usr/local/lib/python3.9/dist-packages (from requests->wikipedia-api) (1.26.15)\n",
            "Requirement already satisfied: idna<4,>=2.5 in /usr/local/lib/python3.9/dist-packages (from requests->wikipedia-api) (3.4)\n",
            "Requirement already satisfied: certifi>=2017.4.17 in /usr/local/lib/python3.9/dist-packages (from requests->wikipedia-api) (2022.12.7)\n",
            "Installing collected packages: wikipedia-api\n",
            "Successfully installed wikipedia-api-0.5.8\n"
          ]
        }
      ]
    },
    {
      "cell_type": "code",
      "source": [
        "import docx\n",
        "\n",
        "def get_text(filename):\n",
        "    doc = docx.Document(filename)\n",
        "    fullText = []\n",
        "    for para in doc.paragraphs:\n",
        "        fullText.append(para.text)\n",
        "    return '\\n'.join(fullText)"
      ],
      "metadata": {
        "id": "TbxNFu68HSNP"
      },
      "execution_count": null,
      "outputs": []
    },
    {
      "cell_type": "code",
      "source": [
        "import re\n",
        "\n",
        "def clear_text(row):\n",
        "  row = row.replace('\\xa0', '').replace('\\t', '').replace('\\n', '').replace('[', ' ').replace(']', ' ')\n",
        "  row = row.lower()\n",
        "  row = re.sub('[^а-яА-ЯёЁa-zA-z1-9]' , ' ' , row)\n",
        "\n",
        "  return row.split()"
      ],
      "metadata": {
        "id": "WUilL5rCaei8"
      },
      "execution_count": null,
      "outputs": []
    },
    {
      "cell_type": "code",
      "source": [
        "text = clear_text(get_text('Корпоративные ценности.docx'))"
      ],
      "metadata": {
        "id": "EnbgTAf9-Jlz"
      },
      "execution_count": null,
      "outputs": []
    },
    {
      "cell_type": "code",
      "source": [
        "import wikipediaapi\n",
        "wiki_wiki = wikipediaapi.Wikipedia('ru')\n",
        "\n",
        "wiki = clear_text(wiki_wiki.page('Корпоративные_ценности').text)"
      ],
      "metadata": {
        "id": "aFHqV8E5I0Ny"
      },
      "execution_count": null,
      "outputs": []
    },
    {
      "cell_type": "code",
      "source": [
        "def get_plagiarism(text, wiki):\n",
        "  count_symbols = 0\n",
        "  wiki = ' '.join(wiki)\n",
        "  pattern_idxs = set() \n",
        "\n",
        "  all_symbols = len(''.join(text))\n",
        "\n",
        "  for i in range(len(text) - 3):\n",
        "    pattern = text[i: i+3]\n",
        "\n",
        "    count = boyer_moore_search_simple(wiki, ' '.join(pattern))\n",
        "    if count > 0:\n",
        "      for j in range(i, i+3):\n",
        "        if j not in pattern_idxs:\n",
        "          pattern_idxs.add(j)\n",
        "          count_symbols += len(text[j])\n",
        "\n",
        "  return count_symbols / all_symbols * 100\n",
        "\n"
      ],
      "metadata": {
        "id": "z0YXNG-Sb5xc"
      },
      "execution_count": null,
      "outputs": []
    },
    {
      "cell_type": "code",
      "source": [
        "print(f'{get_plagiarism(text, wiki):.2f} - plagiarized content detected')"
      ],
      "metadata": {
        "colab": {
          "base_uri": "https://localhost:8080/"
        },
        "id": "j_EK9Kz_hORH",
        "outputId": "f78c30d8-7e8b-471b-e00a-4ba84b4326c7"
      },
      "execution_count": null,
      "outputs": [
        {
          "output_type": "stream",
          "name": "stdout",
          "text": [
            "7.31 - plagiarized content detected\n"
          ]
        }
      ]
    },
    {
      "cell_type": "code",
      "source": [
        "\n",
        "# importing SequenceMatcher of difflib module\n",
        "from difflib import SequenceMatcher\n",
        "\n",
        "text = get_text('Корпоративные ценности.docx')\n",
        "wiki = wiki_wiki.page('Корпоративные_ценности').text\n",
        "# Comparing Both Text Files\n",
        "ab = SequenceMatcher(None, text,\n",
        "                      wiki).ratio()\n",
        "  \n",
        "# converting decimal output in integer\n",
        "result = int(ab*100)\n",
        "print(f\"{result}% Plagiarized Content\")"
      ],
      "metadata": {
        "colab": {
          "base_uri": "https://localhost:8080/"
        },
        "id": "T3QUjAHnJI8b",
        "outputId": "524abb12-7daf-4470-88d9-d9d401a4ef39"
      },
      "execution_count": null,
      "outputs": [
        {
          "output_type": "stream",
          "name": "stdout",
          "text": [
            "11% Plagiarized Content\n"
          ]
        }
      ]
    },
    {
      "cell_type": "markdown",
      "source": [
        "# Задание"
      ],
      "metadata": {
        "id": "3RgDJ1iZyhp5"
      }
    },
    {
      "cell_type": "code",
      "source": [
        "def rabin_karp_new(text, pattern, M=256):\n",
        "    m = len(pattern)  \n",
        "    n = len(text) \n",
        "    result = 0\n",
        "    dic = dict()\n",
        "    col = 0\n",
        "\n",
        "    new_text = text\n",
        "    bad_words = []\n",
        "\n",
        "    # Инициализация хэш-значения подстроки\n",
        "    p = sum([ord(x) for x in pattern]) % M\n",
        "\n",
        "    for i in range(n-m+1):\n",
        "      match=True\n",
        "      hash = sum([ord(x) for x in text[i: i+m]]) % M\n",
        "      \n",
        "      if hash not in dic.values():\n",
        "        dic[text[i: i+m]] = hash\n",
        "      else:\n",
        "        bad_words.append(text[i: i+m])\n",
        "\n",
        "        col += 1\n",
        "      if hash == p:\n",
        "        for j in range(m):\n",
        "          if pattern[j] != text[j + i]:\n",
        "            match=False\n",
        "            break\n",
        "        if match:\n",
        "          result += 1  \n",
        "    print(bad_words)\n",
        "    return result, dic, col\n",
        "\n",
        "def dic_to_text(dic):\n",
        "  k = list(dic.keys())\n",
        "  text = k[0]\n",
        "  for i in k[1:]:\n",
        "    text += i[-1]\n",
        "  return text"
      ],
      "metadata": {
        "id": "N2iLPk-5ytS4"
      },
      "execution_count": null,
      "outputs": []
    },
    {
      "cell_type": "code",
      "source": [
        "def rabin_karp_new(input_text, search_pattern):\n",
        "    m = len(search_pattern)\n",
        "    n = len(input_text)\n",
        "    copied_text = input_text\n",
        "\n",
        "    pattern_hash_val = sum(ord(char) for char in search_pattern)\n",
        "\n",
        "    text_hash_val = sum(ord(input_text[i]) for i in range(m))\n",
        "    occurrences = 0\n",
        "    if text_hash_val == pattern_hash_val and input_text[:m] != search_pattern:\n",
        "        occurrences += 1\n",
        "\n",
        "    for i in range(m, n):\n",
        "        text_hash_val -= ord(input_text[i - m])\n",
        "        text_hash_val += ord(input_text[i])\n",
        "\n",
        "        if occurrences > 1 or (text_hash_val == pattern_hash_val and input_text[i-m+1: i+1] != search_pattern):\n",
        "            print(input_text[i-m+1: i+1], search_pattern)\n",
        "            start_idx = i - m + 1\n",
        "            end_idx = start_idx + m\n",
        "            copied_text = copied_text.replace(input_text[start_idx:end_idx], '')\n",
        "    return copied_text\n",
        "\n",
        "    return -1"
      ],
      "metadata": {
        "id": "MobndPXBVSaf"
      },
      "execution_count": null,
      "outputs": []
    },
    {
      "cell_type": "code",
      "source": [
        "text_1 = 'приветаллоприветпокатевирп'\n",
        "# count, dic, coll = \n",
        "rabin_karp_new(text_1, 'привет')\n",
        "# print(count, dic, coll)\n",
        "\n",
        "# print(dic_to_text(dic))"
      ],
      "metadata": {
        "colab": {
          "base_uri": "https://localhost:8080/",
          "height": 87
        },
        "id": "5DZ6ZTu43l34",
        "outputId": "17aa0581-7520-4cca-cca5-303431fc9958"
      },
      "execution_count": null,
      "outputs": [
        {
          "output_type": "stream",
          "name": "stdout",
          "text": [
            "риветп привет\n",
            "ветпок привет\n",
            "тевирп привет\n"
          ]
        },
        {
          "output_type": "execute_result",
          "data": {
            "text/plain": [
              "'приветаллопока'"
            ],
            "application/vnd.google.colaboratory.intrinsic+json": {
              "type": "string"
            }
          },
          "metadata": {},
          "execution_count": 139
        }
      ]
    },
    {
      "cell_type": "code",
      "source": [],
      "metadata": {
        "id": "_VDThcI47sCC"
      },
      "execution_count": null,
      "outputs": []
    }
  ]
}