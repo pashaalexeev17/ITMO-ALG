{
  "nbformat": 4,
  "nbformat_minor": 0,
  "metadata": {
    "colab": {
      "provenance": []
    },
    "kernelspec": {
      "name": "python3",
      "display_name": "Python 3"
    },
    "language_info": {
      "name": "python"
    }
  },
  "cells": [
    {
      "cell_type": "markdown",
      "source": [
        "# **Задание 1**"
      ],
      "metadata": {
        "id": "maNvEypSSiu-"
      }
    },
    {
      "cell_type": "code",
      "execution_count": null,
      "metadata": {
        "id": "FBurPNbRBgwQ"
      },
      "outputs": [],
      "source": [
        "def binary_search(arr, x):\n",
        "    # Сначала отсортируем массив\n",
        "    arr.sort()\n",
        "\n",
        "    low = 0\n",
        "    high = len(arr) - 1\n",
        "    steps = 0  # переменная для хранения количества шагов\n",
        "\n",
        "    while low <= high:\n",
        "        mid = (low + high) // 2\n",
        "        guess = arr[mid]\n",
        "\n",
        "        if guess == x:\n",
        "            # Число найдено!\n",
        "            steps += 1\n",
        "            return mid, steps\n",
        "\n",
        "        if guess > x:\n",
        "            # guess слишком большое, искать нужно в левой половине\n",
        "            high = mid - 1\n",
        "            steps += 1\n",
        "        else:\n",
        "            # guess слишком маленькое, искать нужно в правой половине\n",
        "            low = mid + 1\n",
        "            steps += 1\n",
        "\n",
        "    # Если число не найдено, возвращаем -1\n",
        "    return -1\n"
      ]
    },
    {
      "cell_type": "code",
      "source": [
        "arr = list(range(500))\n",
        "\n",
        "binary_search(arr, 352)"
      ],
      "metadata": {
        "colab": {
          "base_uri": "https://localhost:8080/"
        },
        "id": "W8fScONMO3VO",
        "outputId": "6a09d6d0-79e1-4adf-b1bb-6bb4664d72a8"
      },
      "execution_count": null,
      "outputs": [
        {
          "output_type": "execute_result",
          "data": {
            "text/plain": [
              "(352, 8)"
            ]
          },
          "metadata": {},
          "execution_count": 37
        }
      ]
    },
    {
      "cell_type": "code",
      "source": [
        "arr[352]"
      ],
      "metadata": {
        "colab": {
          "base_uri": "https://localhost:8080/"
        },
        "id": "5bHcfFmFSsPZ",
        "outputId": "7d9c1c45-0487-41ad-9486-bc4a12e03fad"
      },
      "execution_count": null,
      "outputs": [
        {
          "output_type": "execute_result",
          "data": {
            "text/plain": [
              "352"
            ]
          },
          "metadata": {},
          "execution_count": 38
        }
      ]
    },
    {
      "cell_type": "markdown",
      "source": [
        "# **Задание 2**"
      ],
      "metadata": {
        "id": "KO6mI2KwSmaS"
      }
    },
    {
      "cell_type": "code",
      "source": [
        "students = {\n",
        "  \"Иван Иванов\": {\n",
        "    \"Имя\": \"Иван\",\n",
        "    \"Фамилия\": \"Иванов\",\n",
        "    \"Возраст\": 20,\n",
        "    \"Пол\": \"Мужской\",\n",
        "    \"Рост\": 175,\n",
        "    \"Цвет глаз\": \"Карие\",\n",
        "    \"Цвет волос\": \"Шатен\"\n",
        "  },\n",
        "  \"Анна Петрова\": {\n",
        "    \"Возраст\": 19,\n",
        "    \"Пол\": \"Женский\",\n",
        "    \"Рост\": 183,\n",
        "    \"Цвет глаз\": \"Зеленые\",\n",
        "    \"Цвет волос\": \"Русые\"\n",
        "  },\n",
        "  \"Максим Сидоров\": {\n",
        "    \"Возраст\": 21,\n",
        "    \"Пол\": \"Мужской\",\n",
        "    \"Рост\": 170,\n",
        "    \"Цвет глаз\": \"Зеленые\",\n",
        "    \"Цвет волос\": \"Блонд\"\n",
        "  },\n",
        "  \"Екатерина Васильева\": {\n",
        "    \"Возраст\": 18,\n",
        "    \"Пол\": \"Женский\",\n",
        "    \"Рост\": 167,\n",
        "    \"Цвет глаз\": \"Карие\",\n",
        "    \"Цвет волос\": \"Черные\"\n",
        "  },\n",
        "  \"Дмитрий Кузнецов\": {\n",
        "    \"Возраст\": 20,\n",
        "    \"Пол\": \"Мужской\",\n",
        "    \"Рост\": 179,\n",
        "    \"Цвет глаз\": \"Зеленые\",\n",
        "    \"Цвет волос\": \"Шатен\"\n",
        "  },\n",
        "  \"Мария Новикова\": {\n",
        "    \"Возраст\": 19,\n",
        "    \"Пол\": \"Женский\",\n",
        "    \"Рост\": 177,\n",
        "    \"Цвет глаз\": \"Карие\",\n",
        "    \"Цвет волос\": \"Русые\"\n",
        "  },\n",
        "  \"Александр Попов\": {\n",
        "    \"Возраст\": 21,\n",
        "    \"Пол\": \"Мужской\",\n",
        "    \"Рост\": 192,\n",
        "    \"Цвет глаз\": \"Карие\",\n",
        "    \"Цвет волос\": \"Темные\"\n",
        "  },\n",
        "  \"Анастасия Смирнова\": {\n",
        "    \"Возраст\": 20,\n",
        "    \"Пол\": \"Женский\",\n",
        "    \"Рост\": 174,\n",
        "    \"Цвет глаз\": \"Зеленые\",\n",
        "    \"Цвет волос\": \"Русые\"\n",
        "  },\n",
        "  \"Владислав Федоров\": {\n",
        "    \"Возраст\": 22,\n",
        "    \"Пол\": \"Мужской\",\n",
        "    \"Рост\": 156,\n",
        "    \"Цвет глаз\": \"Карие\",\n",
        "    \"Цвет волос\": \"Шатен\"\n",
        "  },\n",
        "  \"Ольга Смирнова\": {\n",
        "    \"Возраст\": 18,\n",
        "    \"Пол\": \"Женский\",\n",
        "    \"Рост\": 159,\n",
        "    \"Цвет глаз\": \"Карие\",\n",
        "    \"Цвет волос\": \"Шатен\"\n",
        "  }\n",
        "}"
      ],
      "metadata": {
        "id": "qxz2ElsOSo9q"
      },
      "execution_count": null,
      "outputs": []
    },
    {
      "cell_type": "code",
      "source": [
        "from statistics import median"
      ],
      "metadata": {
        "id": "fHELot6Zf2B2"
      },
      "execution_count": null,
      "outputs": []
    },
    {
      "cell_type": "code",
      "source": [
        "def guesser(students):\n",
        "  ans = input('\\nВаш студент мужского пола?\\n>>>')\n",
        "  students = {x: students[x] for x in students if (students[x]['Пол'] == 'Мужской')} if ans.lower() == 'да' else {x: students[x] for x in students if (students[x]['Пол'] == 'Женский')}\n",
        "\n",
        "  while len(students) > 1:\n",
        "    av_h = median([students[x]['Рост'] for x in students])\n",
        "    ans = input(f'\\nВаш студент выше {av_h} см?\\n>>>')\n",
        "    students = {x: students[x] for x in students if (students[x]['Рост'] > av_h)} if ans.lower() == 'да' else {x: students[x] for x in students if (students[x]['Рост'] <= av_h)}\n",
        "\n",
        "    av_age = round(median([students[x]['Возраст'] for x in students]))\n",
        "    ans = input(f'\\nВаш студент старше {av_age}?\\n>>>')\n",
        "    students = {x: students[x] for x in students if (students[x]['Возраст'] > av_age)} if ans.lower() == 'да' else {x: students[x] for x in students if (students[x]['Возраст'] <= av_age)}\n",
        "\n",
        "    eyes_set = {students[x]['Цвет глаз'] for x in students}\n",
        "    if len(eyes_set) > 1:\n",
        "      eye = eyes_set.pop()\n",
        "      ans = input(f'\\nУ вашего студента {eye} глаза?\\n>>>')\n",
        "      students = {x: students[x] for x in students if (students[x]['Цвет глаз'] == eye)} if ans.lower() == 'да' else {x: students[x] for x in students if (students[x]['Цвет глаз'] != eye)}\n",
        "\n",
        "      {students[x]['Цвет волос'] for x in students}\n",
        "    if len(hair_set) > 1:\n",
        "      hair = hair_set.pop()\n",
        "      ans = input(f'\\nУ вашего студента {hair} глаза?\\n>>>')\n",
        "      students = {x: students[x] for x in students if (students[x]['Цвет волос'] == hair)} if ans.lower() == 'да' else {x: students[x] for x in students if (students[x]['Цвет волос'] != hair)}\n",
        "    \n",
        "  ans = input(f'\\nВашего студента зовут {list(students)[0]}?\\n>>>')\n",
        "  if ans.lower() == 'да':\n",
        "    print('ура!')\n",
        "  else:\n",
        "    print('нет такого студента((')"
      ],
      "metadata": {
        "id": "IgpwKofnU4n5"
      },
      "execution_count": null,
      "outputs": []
    },
    {
      "cell_type": "code",
      "source": [
        "guesser(students)"
      ],
      "metadata": {
        "colab": {
          "base_uri": "https://localhost:8080/"
        },
        "id": "g1BWPajVjC0L",
        "outputId": "4f20c352-1e2f-4955-effc-5cca22ed8aad"
      },
      "execution_count": null,
      "outputs": [
        {
          "output_type": "stream",
          "name": "stdout",
          "text": [
            "\n",
            "Ваш студент мужского пола?\n",
            ">>>да\n",
            "\n",
            "Ваш студент выше 175 см?\n",
            ">>>нет\n",
            "\n",
            "Ваш студент старше 21?\n",
            ">>>да\n",
            "\n",
            "Вашего студента зовут Владислав Федоров?\n",
            ">>>да\n",
            "ура!\n"
          ]
        }
      ]
    },
    {
      "cell_type": "markdown",
      "source": [
        "# **Задание 3**"
      ],
      "metadata": {
        "id": "jETADs6Kj8de"
      }
    },
    {
      "cell_type": "code",
      "source": [
        "import graphviz\n",
        "from graphviz import Digraph\n",
        "\n",
        "def create_graph(students):\n",
        "    dot = Digraph(strict=True)  \n",
        "    node = \"Пол Мужской\"\n",
        "\n",
        "    for name in students:\n",
        "      student = students[name]\n",
        "      cur_node = node\n",
        "      lst = {x: students[x] for x in students if (students[x]['Пол'] == student['Пол'])}\n",
        "      ans = 'да' if student['Пол'] == 'Мужской' else 'нет'\n",
        "\n",
        "      while len(lst) > 1:\n",
        "        av_h = median([lst[x]['Рост'] for x in lst])\n",
        "        dot.edge(cur_node, f'Рост > {av_h}', ans)\n",
        "        cur_node = f'Рост > {av_h}'\n",
        "        ans = 'да' if student['Рост'] > av_h else 'нет'\n",
        "        lst = {x: lst[x] for x in lst if (lst[x]['Рост'] > av_h)} if ans.lower() == 'да' else {x: lst[x] for x in lst if (lst[x]['Рост'] <= av_h)}\n",
        "\n",
        "        av_age = round(median([lst[x]['Возраст'] for x in lst]))\n",
        "        dot.edge(cur_node, f'Возраст > {av_age}', ans)\n",
        "        cur_node = f'Возраст > {av_age}'\n",
        "        ans = 'да' if student['Возраст'] > av_age else 'нет'\n",
        "        lst = {x: lst[x] for x in lst if (lst[x]['Возраст'] > av_age)} if ans.lower() == 'да' else {x: lst[x] for x in lst if (lst[x]['Возраст'] <= av_age)}\n",
        "\n",
        "        eyes_set = {lst[x]['Цвет глаз'] for x in lst}\n",
        "        if len(eyes_set) > 1:\n",
        "          eye = eyes_set.pop()\n",
        "          dot.edge(cur_node, f'Цвет глаз {eye}', ans)\n",
        "          cur_node = f'Цвет глаз {eye}'\n",
        "          ans = 'да' if student['Цвет глаз'] == eye else 'нет'\n",
        "          lst = {x: lst[x] for x in lst if (lst[x]['Цвет глаз'] == eye)} if ans.lower() == 'да' else {x: lst[x] for x in lst if (lst[x]['Цвет глаз'] != eye)}\n",
        "\n",
        "        hair_set = {lst[x]['Цвет волос'] for x in lst}\n",
        "        if len(hair_set) > 1:\n",
        "          hair = hair_set.pop()\n",
        "          dot.edge(cur_node, f'Цвет волос {hair}', ans)\n",
        "          cur_node = f'Цвет волос {hair}'\n",
        "          ans = 'да' if student['Цвет волос'] == hair else 'нет'\n",
        "          lst = {x: lst[x] for x in lst if (lst[x]['Цвет волос'] == hair)} if ans.lower() == 'да' else {x: lst[x] for x in lst if (lst[x]['Цвет волос'] != hair)}\n",
        "      dot.edge(cur_node, name, ans)\n",
        "\n",
        "    return dot\n",
        "\n",
        "create_graph(students)"
      ],
      "metadata": {
        "colab": {
          "base_uri": "https://localhost:8080/",
          "height": 544
        },
        "id": "o4Q2CbYhj_ou",
        "outputId": "fde0d5cd-96b3-49e5-911b-87e573b24459"
      },
      "execution_count": null,
      "outputs": [
        {
          "output_type": "execute_result",
          "data": {
            "text/plain": [
              "<graphviz.dot.Digraph at 0x7f6fd994b8b0>"
            ],
            "image/svg+xml": "<?xml version=\"1.0\" encoding=\"UTF-8\" standalone=\"no\"?>\n<!DOCTYPE svg PUBLIC \"-//W3C//DTD SVG 1.1//EN\"\n \"http://www.w3.org/Graphics/SVG/1.1/DTD/svg11.dtd\">\n<!-- Generated by graphviz version 2.43.0 (0)\n -->\n<!-- Title: %3 Pages: 1 -->\n<svg width=\"1243pt\" height=\"392pt\"\n viewBox=\"0.00 0.00 1243.09 392.00\" xmlns=\"http://www.w3.org/2000/svg\" xmlns:xlink=\"http://www.w3.org/1999/xlink\">\n<g id=\"graph0\" class=\"graph\" transform=\"scale(1 1) rotate(0) translate(4 388)\">\n<title>%3</title>\n<polygon fill=\"white\" stroke=\"transparent\" points=\"-4,4 -4,-388 1239.09,-388 1239.09,4 -4,4\"/>\n<!-- Пол Мужской -->\n<g id=\"node1\" class=\"node\">\n<title>Пол Мужской</title>\n<ellipse fill=\"none\" stroke=\"black\" cx=\"596.34\" cy=\"-366\" rx=\"63.89\" ry=\"18\"/>\n<text text-anchor=\"middle\" x=\"596.34\" y=\"-362.3\" font-family=\"Times,serif\" font-size=\"14.00\">Пол Мужской</text>\n</g>\n<!-- Рост &gt; 175 -->\n<g id=\"node2\" class=\"node\">\n<title>Рост &gt; 175</title>\n<ellipse fill=\"none\" stroke=\"black\" cx=\"527.34\" cy=\"-279\" rx=\"51.99\" ry=\"18\"/>\n<text text-anchor=\"middle\" x=\"527.34\" y=\"-275.3\" font-family=\"Times,serif\" font-size=\"14.00\">Рост &gt; 175</text>\n</g>\n<!-- Пол Мужской&#45;&gt;Рост &gt; 175 -->\n<g id=\"edge1\" class=\"edge\">\n<title>Пол Мужской&#45;&gt;Рост &gt; 175</title>\n<path fill=\"none\" stroke=\"black\" d=\"M582.71,-348.21C572.53,-335.67 558.47,-318.35 547.07,-304.3\"/>\n<polygon fill=\"black\" stroke=\"black\" points=\"549.73,-302.03 540.71,-296.47 544.3,-306.44 549.73,-302.03\"/>\n<text text-anchor=\"middle\" x=\"572.84\" y=\"-318.8\" font-family=\"Times,serif\" font-size=\"14.00\">да</text>\n</g>\n<!-- Рост &gt; 174 -->\n<g id=\"node6\" class=\"node\">\n<title>Рост &gt; 174</title>\n<ellipse fill=\"none\" stroke=\"black\" cx=\"704.34\" cy=\"-279\" rx=\"51.99\" ry=\"18\"/>\n<text text-anchor=\"middle\" x=\"704.34\" y=\"-275.3\" font-family=\"Times,serif\" font-size=\"14.00\">Рост &gt; 174</text>\n</g>\n<!-- Пол Мужской&#45;&gt;Рост &gt; 174 -->\n<g id=\"edge5\" class=\"edge\">\n<title>Пол Мужской&#45;&gt;Рост &gt; 174</title>\n<path fill=\"none\" stroke=\"black\" d=\"M616.91,-348.81C633.76,-335.55 657.76,-316.66 676.36,-302.03\"/>\n<polygon fill=\"black\" stroke=\"black\" points=\"678.52,-304.77 684.22,-295.84 674.19,-299.27 678.52,-304.77\"/>\n<text text-anchor=\"middle\" x=\"666.34\" y=\"-318.8\" font-family=\"Times,serif\" font-size=\"14.00\">нет</text>\n</g>\n<!-- Возраст &gt; 21 -->\n<g id=\"node3\" class=\"node\">\n<title>Возраст &gt; 21</title>\n<ellipse fill=\"none\" stroke=\"black\" cx=\"325.34\" cy=\"-192\" rx=\"59.59\" ry=\"18\"/>\n<text text-anchor=\"middle\" x=\"325.34\" y=\"-188.3\" font-family=\"Times,serif\" font-size=\"14.00\">Возраст &gt; 21</text>\n</g>\n<!-- Рост &gt; 175&#45;&gt;Возраст &gt; 21 -->\n<g id=\"edge2\" class=\"edge\">\n<title>Рост &gt; 175&#45;&gt;Возраст &gt; 21</title>\n<path fill=\"none\" stroke=\"black\" d=\"M495.34,-264.53C460.88,-250.03 405.89,-226.9 367.83,-210.88\"/>\n<polygon fill=\"black\" stroke=\"black\" points=\"369.12,-207.62 358.54,-206.97 366.4,-214.08 369.12,-207.62\"/>\n<text text-anchor=\"middle\" x=\"449.34\" y=\"-231.8\" font-family=\"Times,serif\" font-size=\"14.00\">нет</text>\n</g>\n<!-- Возраст &gt; 20 -->\n<g id=\"node13\" class=\"node\">\n<title>Возраст &gt; 20</title>\n<ellipse fill=\"none\" stroke=\"black\" cx=\"527.34\" cy=\"-192\" rx=\"59.59\" ry=\"18\"/>\n<text text-anchor=\"middle\" x=\"527.34\" y=\"-188.3\" font-family=\"Times,serif\" font-size=\"14.00\">Возраст &gt; 20</text>\n</g>\n<!-- Рост &gt; 175&#45;&gt;Возраст &gt; 20 -->\n<g id=\"edge13\" class=\"edge\">\n<title>Рост &gt; 175&#45;&gt;Возраст &gt; 20</title>\n<path fill=\"none\" stroke=\"black\" d=\"M527.34,-260.8C527.34,-249.16 527.34,-233.55 527.34,-220.24\"/>\n<polygon fill=\"black\" stroke=\"black\" points=\"530.84,-220.18 527.34,-210.18 523.84,-220.18 530.84,-220.18\"/>\n<text text-anchor=\"middle\" x=\"533.84\" y=\"-231.8\" font-family=\"Times,serif\" font-size=\"14.00\">да</text>\n</g>\n<!-- Цвет глаз Зеленые -->\n<g id=\"node4\" class=\"node\">\n<title>Цвет глаз Зеленые</title>\n<ellipse fill=\"none\" stroke=\"black\" cx=\"325.34\" cy=\"-105\" rx=\"81.49\" ry=\"18\"/>\n<text text-anchor=\"middle\" x=\"325.34\" y=\"-101.3\" font-family=\"Times,serif\" font-size=\"14.00\">Цвет глаз Зеленые</text>\n</g>\n<!-- Возраст &gt; 21&#45;&gt;Цвет глаз Зеленые -->\n<g id=\"edge3\" class=\"edge\">\n<title>Возраст &gt; 21&#45;&gt;Цвет глаз Зеленые</title>\n<path fill=\"none\" stroke=\"black\" d=\"M325.34,-173.8C325.34,-162.16 325.34,-146.55 325.34,-133.24\"/>\n<polygon fill=\"black\" stroke=\"black\" points=\"328.84,-133.18 325.34,-123.18 321.84,-133.18 328.84,-133.18\"/>\n<text text-anchor=\"middle\" x=\"335.34\" y=\"-144.8\" font-family=\"Times,serif\" font-size=\"14.00\">нет</text>\n</g>\n<!-- Владислав Федоров -->\n<g id=\"node18\" class=\"node\">\n<title>Владислав Федоров</title>\n<ellipse fill=\"none\" stroke=\"black\" cx=\"139.34\" cy=\"-105\" rx=\"86.38\" ry=\"18\"/>\n<text text-anchor=\"middle\" x=\"139.34\" y=\"-101.3\" font-family=\"Times,serif\" font-size=\"14.00\">Владислав Федоров</text>\n</g>\n<!-- Возраст &gt; 21&#45;&gt;Владислав Федоров -->\n<g id=\"edge18\" class=\"edge\">\n<title>Возраст &gt; 21&#45;&gt;Владислав Федоров</title>\n<path fill=\"none\" stroke=\"black\" d=\"M293.79,-176.58C263.28,-162.64 216.81,-141.4 182.81,-125.86\"/>\n<polygon fill=\"black\" stroke=\"black\" points=\"184.13,-122.62 173.58,-121.64 181.22,-128.98 184.13,-122.62\"/>\n<text text-anchor=\"middle\" x=\"250.84\" y=\"-144.8\" font-family=\"Times,serif\" font-size=\"14.00\">да</text>\n</g>\n<!-- Иван Иванов -->\n<g id=\"node5\" class=\"node\">\n<title>Иван Иванов</title>\n<ellipse fill=\"none\" stroke=\"black\" cx=\"402.34\" cy=\"-18\" rx=\"61.19\" ry=\"18\"/>\n<text text-anchor=\"middle\" x=\"402.34\" y=\"-14.3\" font-family=\"Times,serif\" font-size=\"14.00\">Иван Иванов</text>\n</g>\n<!-- Цвет глаз Зеленые&#45;&gt;Иван Иванов -->\n<g id=\"edge4\" class=\"edge\">\n<title>Цвет глаз Зеленые&#45;&gt;Иван Иванов</title>\n<path fill=\"none\" stroke=\"black\" d=\"M340.56,-87.21C352.02,-74.55 367.9,-57.03 380.68,-42.91\"/>\n<polygon fill=\"black\" stroke=\"black\" points=\"383.3,-45.23 387.42,-35.47 378.12,-40.53 383.3,-45.23\"/>\n<text text-anchor=\"middle\" x=\"379.34\" y=\"-57.8\" font-family=\"Times,serif\" font-size=\"14.00\">нет</text>\n</g>\n<!-- Анна Петрова -->\n<g id=\"node8\" class=\"node\">\n<title>Анна Петрова</title>\n<ellipse fill=\"none\" stroke=\"black\" cx=\"545.34\" cy=\"-18\" rx=\"64.19\" ry=\"18\"/>\n<text text-anchor=\"middle\" x=\"545.34\" y=\"-14.3\" font-family=\"Times,serif\" font-size=\"14.00\">Анна Петрова</text>\n</g>\n<!-- Цвет глаз Зеленые&#45;&gt;Анна Петрова -->\n<g id=\"edge8\" class=\"edge\">\n<title>Цвет глаз Зеленые&#45;&gt;Анна Петрова</title>\n<path fill=\"none\" stroke=\"black\" d=\"M363.92,-89.1C401.71,-74.49 459.33,-52.23 499.46,-36.73\"/>\n<polygon fill=\"black\" stroke=\"black\" points=\"500.94,-39.91 509.01,-33.04 498.42,-33.38 500.94,-39.91\"/>\n<text text-anchor=\"middle\" x=\"455.84\" y=\"-57.8\" font-family=\"Times,serif\" font-size=\"14.00\">да</text>\n</g>\n<!-- Максим Сидоров -->\n<g id=\"node9\" class=\"node\">\n<title>Максим Сидоров</title>\n<ellipse fill=\"none\" stroke=\"black\" cx=\"77.34\" cy=\"-18\" rx=\"77.19\" ry=\"18\"/>\n<text text-anchor=\"middle\" x=\"77.34\" y=\"-14.3\" font-family=\"Times,serif\" font-size=\"14.00\">Максим Сидоров</text>\n</g>\n<!-- Цвет глаз Зеленые&#45;&gt;Максим Сидоров -->\n<g id=\"edge9\" class=\"edge\">\n<title>Цвет глаз Зеленые&#45;&gt;Максим Сидоров</title>\n<path fill=\"none\" stroke=\"black\" d=\"M283.27,-89.58C240.53,-74.93 174.28,-52.22 128.52,-36.54\"/>\n<polygon fill=\"black\" stroke=\"black\" points=\"129.39,-33.14 118.79,-33.21 127.12,-39.76 129.39,-33.14\"/>\n<text text-anchor=\"middle\" x=\"222.84\" y=\"-57.8\" font-family=\"Times,serif\" font-size=\"14.00\">да</text>\n</g>\n<!-- Мария Новикова -->\n<g id=\"node15\" class=\"node\">\n<title>Мария Новикова</title>\n<ellipse fill=\"none\" stroke=\"black\" cx=\"248.34\" cy=\"-18\" rx=\"75.29\" ry=\"18\"/>\n<text text-anchor=\"middle\" x=\"248.34\" y=\"-14.3\" font-family=\"Times,serif\" font-size=\"14.00\">Мария Новикова</text>\n</g>\n<!-- Цвет глаз Зеленые&#45;&gt;Мария Новикова -->\n<g id=\"edge15\" class=\"edge\">\n<title>Цвет глаз Зеленые&#45;&gt;Мария Новикова</title>\n<path fill=\"none\" stroke=\"black\" d=\"M310.13,-87.21C298.74,-74.63 282.99,-57.25 270.25,-43.18\"/>\n<polygon fill=\"black\" stroke=\"black\" points=\"272.83,-40.82 263.52,-35.76 267.64,-45.52 272.83,-40.82\"/>\n<text text-anchor=\"middle\" x=\"302.34\" y=\"-57.8\" font-family=\"Times,serif\" font-size=\"14.00\">нет</text>\n</g>\n<!-- Возраст &gt; 19 -->\n<g id=\"node7\" class=\"node\">\n<title>Возраст &gt; 19</title>\n<ellipse fill=\"none\" stroke=\"black\" cx=\"704.34\" cy=\"-192\" rx=\"59.59\" ry=\"18\"/>\n<text text-anchor=\"middle\" x=\"704.34\" y=\"-188.3\" font-family=\"Times,serif\" font-size=\"14.00\">Возраст &gt; 19</text>\n</g>\n<!-- Рост &gt; 174&#45;&gt;Возраст &gt; 19 -->\n<g id=\"edge6\" class=\"edge\">\n<title>Рост &gt; 174&#45;&gt;Возраст &gt; 19</title>\n<path fill=\"none\" stroke=\"black\" d=\"M704.34,-260.8C704.34,-249.16 704.34,-233.55 704.34,-220.24\"/>\n<polygon fill=\"black\" stroke=\"black\" points=\"707.84,-220.18 704.34,-210.18 700.84,-220.18 707.84,-220.18\"/>\n<text text-anchor=\"middle\" x=\"710.84\" y=\"-231.8\" font-family=\"Times,serif\" font-size=\"14.00\">да</text>\n</g>\n<!-- Возраст &gt; 18 -->\n<g id=\"node10\" class=\"node\">\n<title>Возраст &gt; 18</title>\n<ellipse fill=\"none\" stroke=\"black\" cx=\"876.34\" cy=\"-192\" rx=\"59.59\" ry=\"18\"/>\n<text text-anchor=\"middle\" x=\"876.34\" y=\"-188.3\" font-family=\"Times,serif\" font-size=\"14.00\">Возраст &gt; 18</text>\n</g>\n<!-- Рост &gt; 174&#45;&gt;Возраст &gt; 18 -->\n<g id=\"edge10\" class=\"edge\">\n<title>Рост &gt; 174&#45;&gt;Возраст &gt; 18</title>\n<path fill=\"none\" stroke=\"black\" d=\"M733.13,-263.77C761.77,-249.62 805.89,-227.82 837.6,-212.15\"/>\n<polygon fill=\"black\" stroke=\"black\" points=\"839.18,-215.27 846.59,-207.7 836.08,-208.99 839.18,-215.27\"/>\n<text text-anchor=\"middle\" x=\"810.34\" y=\"-231.8\" font-family=\"Times,serif\" font-size=\"14.00\">нет</text>\n</g>\n<!-- Возраст &gt; 19&#45;&gt;Цвет глаз Зеленые -->\n<g id=\"edge7\" class=\"edge\">\n<title>Возраст &gt; 19&#45;&gt;Цвет глаз Зеленые</title>\n<path fill=\"none\" stroke=\"black\" d=\"M687.48,-174.67C674.39,-163.08 655.18,-148.34 635.34,-141 543.33,-106.96 512.57,-136.12 415.34,-123 408,-122.01 400.35,-120.82 392.75,-119.53\"/>\n<polygon fill=\"black\" stroke=\"black\" points=\"393.27,-116.06 382.81,-117.79 392.06,-122.96 393.27,-116.06\"/>\n<text text-anchor=\"middle\" x=\"671.34\" y=\"-144.8\" font-family=\"Times,serif\" font-size=\"14.00\">нет</text>\n</g>\n<!-- Цвет волос Шатен -->\n<g id=\"node11\" class=\"node\">\n<title>Цвет волос Шатен</title>\n<ellipse fill=\"none\" stroke=\"black\" cx=\"1068.34\" cy=\"-105\" rx=\"81.79\" ry=\"18\"/>\n<text text-anchor=\"middle\" x=\"1068.34\" y=\"-101.3\" font-family=\"Times,serif\" font-size=\"14.00\">Цвет волос Шатен</text>\n</g>\n<!-- Возраст &gt; 18&#45;&gt;Цвет волос Шатен -->\n<g id=\"edge11\" class=\"edge\">\n<title>Возраст &gt; 18&#45;&gt;Цвет волос Шатен</title>\n<path fill=\"none\" stroke=\"black\" d=\"M908.48,-176.77C940.1,-162.78 988.62,-141.29 1023.92,-125.67\"/>\n<polygon fill=\"black\" stroke=\"black\" points=\"1025.77,-128.67 1033.5,-121.43 1022.94,-122.27 1025.77,-128.67\"/>\n<text text-anchor=\"middle\" x=\"993.34\" y=\"-144.8\" font-family=\"Times,serif\" font-size=\"14.00\">нет</text>\n</g>\n<!-- Анастасия Смирнова -->\n<g id=\"node17\" class=\"node\">\n<title>Анастасия Смирнова</title>\n<ellipse fill=\"none\" stroke=\"black\" cx=\"876.34\" cy=\"-105\" rx=\"91.78\" ry=\"18\"/>\n<text text-anchor=\"middle\" x=\"876.34\" y=\"-101.3\" font-family=\"Times,serif\" font-size=\"14.00\">Анастасия Смирнова</text>\n</g>\n<!-- Возраст &gt; 18&#45;&gt;Анастасия Смирнова -->\n<g id=\"edge17\" class=\"edge\">\n<title>Возраст &gt; 18&#45;&gt;Анастасия Смирнова</title>\n<path fill=\"none\" stroke=\"black\" d=\"M876.34,-173.8C876.34,-162.16 876.34,-146.55 876.34,-133.24\"/>\n<polygon fill=\"black\" stroke=\"black\" points=\"879.84,-133.18 876.34,-123.18 872.84,-133.18 879.84,-133.18\"/>\n<text text-anchor=\"middle\" x=\"882.84\" y=\"-144.8\" font-family=\"Times,serif\" font-size=\"14.00\">да</text>\n</g>\n<!-- Екатерина Васильева -->\n<g id=\"node12\" class=\"node\">\n<title>Екатерина Васильева</title>\n<ellipse fill=\"none\" stroke=\"black\" cx=\"975.34\" cy=\"-18\" rx=\"92.08\" ry=\"18\"/>\n<text text-anchor=\"middle\" x=\"975.34\" y=\"-14.3\" font-family=\"Times,serif\" font-size=\"14.00\">Екатерина Васильева</text>\n</g>\n<!-- Цвет волос Шатен&#45;&gt;Екатерина Васильева -->\n<g id=\"edge12\" class=\"edge\">\n<title>Цвет волос Шатен&#45;&gt;Екатерина Васильева</title>\n<path fill=\"none\" stroke=\"black\" d=\"M1049.97,-87.21C1036.09,-74.52 1016.84,-56.93 1001.37,-42.79\"/>\n<polygon fill=\"black\" stroke=\"black\" points=\"1003.42,-39.92 993.68,-35.76 998.7,-45.09 1003.42,-39.92\"/>\n<text text-anchor=\"middle\" x=\"1037.34\" y=\"-57.8\" font-family=\"Times,serif\" font-size=\"14.00\">нет</text>\n</g>\n<!-- Ольга Смирнова -->\n<g id=\"node19\" class=\"node\">\n<title>Ольга Смирнова</title>\n<ellipse fill=\"none\" stroke=\"black\" cx=\"1160.34\" cy=\"-18\" rx=\"74.99\" ry=\"18\"/>\n<text text-anchor=\"middle\" x=\"1160.34\" y=\"-14.3\" font-family=\"Times,serif\" font-size=\"14.00\">Ольга Смирнова</text>\n</g>\n<!-- Цвет волос Шатен&#45;&gt;Ольга Смирнова -->\n<g id=\"edge19\" class=\"edge\">\n<title>Цвет волос Шатен&#45;&gt;Ольга Смирнова</title>\n<path fill=\"none\" stroke=\"black\" d=\"M1086.52,-87.21C1100.25,-74.52 1119.29,-56.93 1134.59,-42.79\"/>\n<polygon fill=\"black\" stroke=\"black\" points=\"1137.23,-45.12 1142.2,-35.76 1132.48,-39.97 1137.23,-45.12\"/>\n<text text-anchor=\"middle\" x=\"1125.84\" y=\"-57.8\" font-family=\"Times,serif\" font-size=\"14.00\">да</text>\n</g>\n<!-- Дмитрий Кузнецов -->\n<g id=\"node14\" class=\"node\">\n<title>Дмитрий Кузнецов</title>\n<ellipse fill=\"none\" stroke=\"black\" cx=\"508.34\" cy=\"-105\" rx=\"83.69\" ry=\"18\"/>\n<text text-anchor=\"middle\" x=\"508.34\" y=\"-101.3\" font-family=\"Times,serif\" font-size=\"14.00\">Дмитрий Кузнецов</text>\n</g>\n<!-- Возраст &gt; 20&#45;&gt;Дмитрий Кузнецов -->\n<g id=\"edge14\" class=\"edge\">\n<title>Возраст &gt; 20&#45;&gt;Дмитрий Кузнецов</title>\n<path fill=\"none\" stroke=\"black\" d=\"M523.5,-173.8C520.9,-162.16 517.41,-146.55 514.43,-133.24\"/>\n<polygon fill=\"black\" stroke=\"black\" points=\"517.78,-132.17 512.18,-123.18 510.95,-133.7 517.78,-132.17\"/>\n<text text-anchor=\"middle\" x=\"529.34\" y=\"-144.8\" font-family=\"Times,serif\" font-size=\"14.00\">нет</text>\n</g>\n<!-- Александр Попов -->\n<g id=\"node16\" class=\"node\">\n<title>Александр Попов</title>\n<ellipse fill=\"none\" stroke=\"black\" cx=\"688.34\" cy=\"-105\" rx=\"78.79\" ry=\"18\"/>\n<text text-anchor=\"middle\" x=\"688.34\" y=\"-101.3\" font-family=\"Times,serif\" font-size=\"14.00\">Александр Попов</text>\n</g>\n<!-- Возраст &gt; 20&#45;&gt;Александр Попов -->\n<g id=\"edge16\" class=\"edge\">\n<title>Возраст &gt; 20&#45;&gt;Александр Попов</title>\n<path fill=\"none\" stroke=\"black\" d=\"M555.76,-176C581.82,-162.24 620.66,-141.73 649.57,-126.47\"/>\n<polygon fill=\"black\" stroke=\"black\" points=\"651.37,-129.48 658.58,-121.71 648.1,-123.29 651.37,-129.48\"/>\n<text text-anchor=\"middle\" x=\"624.84\" y=\"-144.8\" font-family=\"Times,serif\" font-size=\"14.00\">да</text>\n</g>\n</g>\n</svg>\n"
          },
          "metadata": {},
          "execution_count": 4
        }
      ]
    }
  ]
}