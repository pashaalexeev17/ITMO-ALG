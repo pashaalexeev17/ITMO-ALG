{
  "nbformat": 4,
  "nbformat_minor": 0,
  "metadata": {
    "colab": {
      "provenance": [],
      "collapsed_sections": [
        "IDePjAWwMdFL"
      ]
    },
    "kernelspec": {
      "name": "python3",
      "display_name": "Python 3"
    },
    "language_info": {
      "name": "python"
    }
  },
  "cells": [
    {
      "cell_type": "code",
      "source": [
        "import random\n",
        "import timeit"
      ],
      "metadata": {
        "id": "ZcXCYTIlYOYG"
      },
      "execution_count": null,
      "outputs": []
    },
    {
      "cell_type": "markdown",
      "source": [
        "## **Задание 1**\n",
        "Написать программу с функциями для быстрой сортировки и сортировки расческой. Оценить время выполнения функций с помощью модуля timeit."
      ],
      "metadata": {
        "id": "4klxPTvrJ1_h"
      }
    },
    {
      "cell_type": "code",
      "source": [
        "arr = [random.randint(0, 1000) for _ in range(30)]"
      ],
      "metadata": {
        "id": "xOEGkQ2XSaYA"
      },
      "execution_count": null,
      "outputs": []
    },
    {
      "cell_type": "markdown",
      "source": [
        "### **Быстрая сортировка**"
      ],
      "metadata": {
        "id": "XVnVx-kvZIxL"
      }
    },
    {
      "cell_type": "markdown",
      "source": [
        "Этот алгоритм состоит из трёх шагов. Сначала из массива нужно выбрать один элемент — его обычно называют опорным. Затем другие элементы в массиве перераспределяют так, чтобы элементы меньше опорного оказались до него, а большие или равные — после. А дальше рекурсивно применяют первые два шага к подмассивам справа и слева от опорного значения."
      ],
      "metadata": {
        "id": "zSnhM4RhZe-n"
      }
    },
    {
      "cell_type": "markdown",
      "source": [
        "**Достоинства**:\n",
        "\n",
        "* Это один из самых быстрых известных алгоритмов сортировки.\n",
        "* Используется во многих языках программирования.\n",
        "* Не требует дополнительной памяти для сортировки.\n",
        "\n",
        "**Недостатки**:\n",
        "\n",
        "* Худшее время выполнения составляет O(n^2) и возможно, если выбор опорного элемента будет неудачным.\n",
        "* Не устойчив, то есть не сохраняет порядок равных элементов.\n",
        "\n",
        "**Сложность**:\n",
        "\n",
        "* Лучшее время выполнения: O(n*log n)\n",
        "* Среднее время выполнения: O(n*log n)\n",
        "* Худшее время выполнения: O(n^2)"
      ],
      "metadata": {
        "id": "BZj9P2lFjK1d"
      }
    },
    {
      "cell_type": "markdown",
      "source": [
        "![image.png](https://upload.wikimedia.org/wikipedia/commons/6/6a/Sorting_quicksort_anim.gif)"
      ],
      "metadata": {
        "id": "5bE54lrilTDx"
      }
    },
    {
      "cell_type": "code",
      "source": [
        "def quicksort(arr):\n",
        "    if len(arr) <= 1:\n",
        "        return arr\n",
        "    pivot = arr[len(arr) // 2]\n",
        "    left = [x for x in arr if x < pivot]\n",
        "    middle = [x for x in arr if x == pivot]\n",
        "    right = [x for x in arr if x > pivot]\n",
        "    return quicksort(left) + middle + quicksort(right)"
      ],
      "metadata": {
        "id": "EYJHRrrtYRpJ"
      },
      "execution_count": null,
      "outputs": []
    },
    {
      "cell_type": "code",
      "source": [
        "print(quicksort(arr))"
      ],
      "metadata": {
        "colab": {
          "base_uri": "https://localhost:8080/"
        },
        "id": "o2fRCSQlSi3F",
        "outputId": "e5f0f6bf-8d4c-4582-90d0-5e454bc9cd76"
      },
      "execution_count": null,
      "outputs": [
        {
          "output_type": "stream",
          "name": "stdout",
          "text": [
            "[1, 22, 154, 233, 237, 261, 290, 334, 375, 378, 394, 426, 431, 497, 524, 539, 592, 609, 610, 653, 688, 718, 738, 787, 808, 880, 881, 890, 892, 898]\n"
          ]
        }
      ]
    },
    {
      "cell_type": "markdown",
      "source": [
        "### **Сортировка расческой**"
      ],
      "metadata": {
        "id": "9P4GvoR4ZMRO"
      }
    },
    {
      "cell_type": "markdown",
      "source": [
        "Её идея состоит в том, чтобы «устранить» элементы с небольшими значения в конце массива, которые замедляют работу алгоритма. Если при пузырьковой и шейкерной сортировках при переборе массива сравниваются соседние элементы, то при «расчёсывании» сначала берётся достаточно большое расстояние между сравниваемыми значениями, а потом оно сужается вплоть до минимального."
      ],
      "metadata": {
        "id": "bwRt-2RDZxAN"
      }
    },
    {
      "cell_type": "markdown",
      "source": [
        "**Достоинства**:\n",
        "\n",
        "* Более быстрый, чем сортировка пузырьком, когда массив частично отсортирован.\n",
        "* Не использует дополнительную память для сортировки.\n",
        "\n",
        "**Недостатки**:\n",
        "\n",
        "* Неустойчивая, то есть не сохраняет порядок равных элементов.\n",
        "* Сложнее реализовать и понять, чем некоторые другие алгоритмы сортировки.\n",
        "\n",
        "**Сложность**:\n",
        "\n",
        "* Лучшее время выполнения: O(n*log n)\n",
        "* Среднее время выполнения: O(n^2)\n",
        "* Худшее время выполнения: O(n^2)"
      ],
      "metadata": {
        "id": "s-HyVTg8jo_W"
      }
    },
    {
      "cell_type": "markdown",
      "source": [
        "![Alt Text](https://upload.wikimedia.org/wikipedia/commons/4/46/Comb_sort_demo.gif)"
      ],
      "metadata": {
        "id": "r_xHsim0lXV2"
      }
    },
    {
      "cell_type": "code",
      "source": [
        "def combsort(arr):\n",
        "\n",
        "    gap = len(arr)\n",
        "    shrink = 1.3\n",
        "    sorted = False\n",
        "\n",
        "    while not sorted:\n",
        "        gap = int(gap / shrink)\n",
        "        if gap <= 1:\n",
        "            gap = 1\n",
        "            sorted = True\n",
        "        i = 0\n",
        "\n",
        "        while i + gap < len(arr):\n",
        "            if arr[i] > arr[i + gap]:\n",
        "                arr[i], arr[i + gap] = arr[i + gap], arr[i]\n",
        "                sorted = False\n",
        "            i += 1\n",
        "\n",
        "    return arr"
      ],
      "metadata": {
        "id": "7hp38Z7vYUkX"
      },
      "execution_count": null,
      "outputs": []
    },
    {
      "cell_type": "code",
      "source": [
        "print(combsort(arr))"
      ],
      "metadata": {
        "colab": {
          "base_uri": "https://localhost:8080/"
        },
        "id": "W39qriFKX2oy",
        "outputId": "82c887a8-d840-46f9-9f88-7718a0dba52e"
      },
      "execution_count": null,
      "outputs": [
        {
          "output_type": "stream",
          "name": "stdout",
          "text": [
            "[1, 22, 154, 233, 237, 261, 290, 334, 375, 378, 394, 426, 431, 497, 524, 539, 592, 609, 610, 653, 688, 718, 738, 787, 808, 880, 881, 890, 892, 898]\n"
          ]
        }
      ]
    },
    {
      "cell_type": "markdown",
      "source": [
        "Сравним время"
      ],
      "metadata": {
        "id": "g57iC6RoYYSR"
      }
    },
    {
      "cell_type": "code",
      "execution_count": null,
      "metadata": {
        "colab": {
          "base_uri": "https://localhost:8080/"
        },
        "id": "ny-Kz1ofJgbn",
        "outputId": "5ac2389c-6567-4437-da49-e769f6940c56"
      },
      "outputs": [
        {
          "output_type": "stream",
          "name": "stdout",
          "text": [
            "Время выполнения быстрой сортировки: 5.33544 секунд\n",
            "Время выполнения сортировки расческой: 13.71884 секунд\n"
          ]
        }
      ],
      "source": [
        "arr = [random.randint(0, 1000) for _ in range(10000)]\n",
        "\n",
        "quicksort_time = timeit.timeit(lambda: quicksort(arr), number=100)\n",
        "combsort_time = timeit.timeit(lambda: combsort(arr), number=100)\n",
        "\n",
        "print(f\"Время выполнения быстрой сортировки: {quicksort_time:.5f} секунд\")\n",
        "print(f\"Время выполнения сортировки расческой: {combsort_time:.5f} секунд\")"
      ]
    },
    {
      "cell_type": "markdown",
      "source": [
        "Можно заметить, что быстрая сортировка в 3 раза быстрее расчески, это связано с тем, что быстрая сортировка имеет сложность **O(n*log(n))**, что делает ее более эффективной, чем сортировка расческой со сложностью **O(n^2)**. Соответственно, быстрая сортировка может справляться с большими массивами данных быстрее, чем сортировка расческой."
      ],
      "metadata": {
        "id": "7wB1EE8lYjQ2"
      }
    },
    {
      "cell_type": "markdown",
      "source": [
        "## **Задание 2**\n",
        "​Изучить блочную, пирамидальную и сортировку слиянием. Написать соответствующие программы."
      ],
      "metadata": {
        "id": "CAHkMTKVLhLF"
      }
    },
    {
      "cell_type": "markdown",
      "source": [
        "### **Блочная сортировка**\n",
        "Блочная сортировка основана на идее разбиения исходного списка на несколько блоков, которые затем сортируются отдельно друг от друга. Затем блоки объединяются в единый упорядоченный список. Она может быть эффективна для сортировки больших списков с повторяющимися элементами. "
      ],
      "metadata": {
        "id": "Yr5lT8j5MENl"
      }
    },
    {
      "cell_type": "markdown",
      "source": [
        "**Достоинства**:\n",
        "\n",
        "* Может быть быстрее, чем некоторые другие алгоритмы сортировки, когда у элементов есть определенный диапазон значений.\n",
        "* Устойчив, то есть сохраняет порядок равных элементов.\n",
        "\n",
        "**Недостатки**:\n",
        "\n",
        "* Требует дополнительной памяти для сортировки.\n",
        "* Неэффективна на элементах с широким диапазоном значений.\n",
        "\n",
        "**Сложность**:\n",
        "\n",
        "* Лучшее время выполнения: O(n+k), где k - количество блоков.\n",
        "* Среднее время выполнения: O(n+k), где k - количество блоков.\n",
        "* Худшее время выполнения: O(n^2), когда все элементы попадают в один блок."
      ],
      "metadata": {
        "id": "cAIGdp0ekRIA"
      }
    },
    {
      "cell_type": "code",
      "source": [
        "def bucket_sort(arr, bucket_size=3):\n",
        "    if len(arr) == 0:\n",
        "        return arr\n",
        "\n",
        "    # Находим минимальный и максимальный элементы в списке\n",
        "    min_value, max_value = min(arr), max(arr)\n",
        "\n",
        "    # Определяем количество блоков, которые будут использоваться для сортировки\n",
        "    bucket_count = (max_value - min_value) // bucket_size + 1\n",
        "    buckets = [[] for _ in range(bucket_count)]\n",
        "\n",
        "    # Распределяем элементы списка по соответствующим блокам\n",
        "    for i in range(len(arr)):\n",
        "        buckets[(arr[i] - min_value) // bucket_size].append(arr[i]) # Вычитаем минимальное значение для того, чтобы избежать ситуации когда индекс выходит за диапазон \n",
        "\n",
        "    # Сортируем каждый блок и объединяем их в единый список\n",
        "    result = []\n",
        "    for i in range(bucket_count):\n",
        "        if bucket_size == 1:\n",
        "            sub_arr = buckets[i]\n",
        "        else:\n",
        "            sub_arr = bucket_sort(buckets[i], bucket_size-1)\n",
        "\n",
        "        result += sub_arr\n",
        "\n",
        "    return result\n",
        "\n"
      ],
      "metadata": {
        "id": "b5JtXPQlLncS"
      },
      "execution_count": null,
      "outputs": []
    },
    {
      "cell_type": "code",
      "source": [
        "arr = [4, 7, 2, 6, 1, 8, 5, 3, 9, 10]\n",
        "sorted_arr = bucket_sort(arr)\n",
        "print(sorted_arr)"
      ],
      "metadata": {
        "colab": {
          "base_uri": "https://localhost:8080/"
        },
        "id": "2P7jiISHV01b",
        "outputId": "566162fd-669b-4030-9a44-be0b5e4c8e04"
      },
      "execution_count": null,
      "outputs": [
        {
          "output_type": "stream",
          "name": "stdout",
          "text": [
            "[1, 2, 3, 4, 5, 6, 7, 8, 9, 10]\n"
          ]
        }
      ]
    },
    {
      "cell_type": "markdown",
      "source": [
        "### **Сортировка слиянием**\n",
        "Он состоит в разбиении исходного списка на две равные части, сортировке каждой части отдельно и объединении двух упорядоченных частей в один отсортированный список. Этот процесс повторяется рекурсивно для каждой половины, пока весь список не будет отсортирован. Сложность - **O(n*log n)**"
      ],
      "metadata": {
        "id": "IDePjAWwMdFL"
      }
    },
    {
      "cell_type": "markdown",
      "source": [
        "**Достоинства**:\n",
        "\n",
        "* Устойчив, то есть сохраняет порядок равных элементов.\n",
        "* Гарантированно работает за O(n*log n) времени в худшем случае.\n",
        "\n",
        "**Недостатки**:\n",
        "\n",
        "* Требует дополнительную память для сортировки.\n",
        "* Может быть менее эффективной, чем быстрая сортировка или пирамидальная сортировка на небольших наборах данных.\n",
        "\n",
        "**Сложность**:\n",
        "\n",
        "* Лучшее время выполнения: O(n*log n)\n",
        "* Среднее время выполнения: O(n*log n)\n",
        "* Худшее время выполнения: O(n*log n)\n"
      ],
      "metadata": {
        "id": "NXMRfubAkW6L"
      }
    },
    {
      "cell_type": "markdown",
      "source": [
        "![image](https://upload.wikimedia.org/wikipedia/commons/c/cc/Merge-sort-example-300px.gif)"
      ],
      "metadata": {
        "id": "DyyPuRkJm9Mp"
      }
    },
    {
      "cell_type": "code",
      "source": [
        "def merge_sort(arr):\n",
        "    if len(arr) <= 1:\n",
        "        return arr\n",
        "\n",
        "    mid = len(arr) // 2\n",
        "    left = merge_sort(arr[:mid])\n",
        "    right = merge_sort(arr[mid:])\n",
        "\n",
        "    return merge(left, right)\n",
        "\n",
        "def merge(left, right):\n",
        "    result = []\n",
        "    i, j = 0, 0\n",
        "    while i < len(left) and j < len(right):\n",
        "        if left[i] < right[j]:\n",
        "            result.append(left[i])\n",
        "            i += 1\n",
        "        else:\n",
        "            result.append(right[j])\n",
        "            j += 1\n",
        "\n",
        "    result += left[i:]\n",
        "    result += right[j:]\n",
        "\n",
        "    return result"
      ],
      "metadata": {
        "id": "NbmVpydNMqNO"
      },
      "execution_count": null,
      "outputs": []
    },
    {
      "cell_type": "code",
      "source": [
        "arr = [4, 7, 2, 6, 1, 8, 5, 3, 9, 10]\n",
        "sorted_arr = merge_sort(arr)\n",
        "print(sorted_arr)"
      ],
      "metadata": {
        "colab": {
          "base_uri": "https://localhost:8080/"
        },
        "id": "2RkR_YVdaxxY",
        "outputId": "42cd6d4f-ebc9-4cca-9a0e-c23ae6e5029e"
      },
      "execution_count": null,
      "outputs": [
        {
          "output_type": "stream",
          "name": "stdout",
          "text": [
            "[1, 2, 3, 4, 5, 6, 7, 8, 9, 10]\n"
          ]
        }
      ]
    },
    {
      "cell_type": "markdown",
      "source": [
        "### **Пирамидальная сортировка**\n"
      ],
      "metadata": {
        "id": "u9a2yu7iMOtp"
      }
    },
    {
      "cell_type": "markdown",
      "source": [
        "**Достоинства**:\n",
        "\n",
        "* Устойчив, то есть сохраняет порядок равных элементов.\n",
        "* Эффективна на больших наборах данных и имеет лучшую производительность, чем быстрая сортировка в худшем случае.\n",
        "\n",
        "**Недостатки**:\n",
        "\n",
        "* Требует дополнительную память для сортировки.\n",
        "* Менее эффективна, чем быстрая сортировка на небольших наборах данных.\n",
        "\n",
        "**Сложность**:\n",
        "\n",
        "* Лучшее время выполнения: O(n*log n)\n",
        "* Среднее время выполнения: O(n*log n)\n",
        "* Худшее время выполнения: O(n*log n)"
      ],
      "metadata": {
        "id": "xmQ9wFwTdia9"
      }
    },
    {
      "cell_type": "markdown",
      "source": [
        "![image](https://pythonist.ru/wp-content/uploads/2020/05/heap_sort_example.gif)"
      ],
      "metadata": {
        "id": "F2hoWaKNnFST"
      }
    },
    {
      "cell_type": "code",
      "source": [
        "def heapify(arr, n, i):\n",
        "    largest = i \n",
        "    l = 2 * i + 1     \n",
        "    r = 2 * i + 2     \n",
        "  \n",
        "    if l < n and arr[i] < arr[l]:\n",
        "        largest = l\n",
        "  \n",
        "    if r < n and arr[largest] < arr[r]:\n",
        "        largest = r\n",
        "  \n",
        "    if largest != i:\n",
        "        arr[i], arr[largest] = arr[largest], arr[i]  # меняем местами элементы\n",
        "        heapify(arr, n, largest)\n",
        "  \n",
        "  \n",
        "def heapSort(arr):\n",
        "    n = len(arr)\n",
        "  \n",
        "    for i in range(n, -1, -1):\n",
        "        heapify(arr, n, i)\n",
        "  \n",
        "    for i in range(n-1, 0, -1):\n",
        "        arr[i], arr[0] = arr[0], arr[i]  # меняем местами первый и последний элементы\n",
        "        heapify(arr, i, 0)"
      ],
      "metadata": {
        "id": "V1q3xPjzaLPN"
      },
      "execution_count": null,
      "outputs": []
    },
    {
      "cell_type": "code",
      "source": [
        "arr = [4, 7, 2, 6, 1, 8, 5, 3, 9, 10]\n",
        "heapSort(arr)\n",
        "print(arr)"
      ],
      "metadata": {
        "colab": {
          "base_uri": "https://localhost:8080/"
        },
        "id": "OWpnmu2MbpVB",
        "outputId": "a4b5d737-9475-4110-b61b-f56b7d75b784"
      },
      "execution_count": null,
      "outputs": [
        {
          "output_type": "stream",
          "name": "stdout",
          "text": [
            "[1, 2, 3, 4, 5, 6, 7, 8, 9, 10]\n"
          ]
        }
      ]
    },
    {
      "cell_type": "code",
      "source": [
        "arr = [random.randint(0, 1000) for _ in range(10000)]\n",
        "\n",
        "bucket_sort_time = timeit.timeit(lambda: bucket_sort(arr), number=100)\n",
        "merge_sort_time = timeit.timeit(lambda: merge_sort(arr), number=100)\n",
        "heapsort_time = timeit.timeit(lambda: heapSort(arr), number=100)\n",
        "\n",
        "print(f\"Время выполнения блочной сортировки: {bucket_sort_time:.5f} секунд\")\n",
        "print(f\"Время выполнения сортировки слиянием: {merge_sort_time:.5f} секунд\")\n",
        "print(f\"Время выполнения пирамидальной сортировки: {heapsort_time:.5f} секунд\")"
      ],
      "metadata": {
        "colab": {
          "base_uri": "https://localhost:8080/"
        },
        "id": "2wsIkzfAaRw8",
        "outputId": "a7841787-2fca-4c76-a051-aa682026fe4e"
      },
      "execution_count": null,
      "outputs": [
        {
          "output_type": "stream",
          "name": "stdout",
          "text": [
            "Время выполнения блочной сортировки: 0.79057 секунд\n",
            "Время выполнения сортировки слиянием: 4.72267 секунд\n",
            "Время выполнения пирамидальной сортировки: 9.36367 секунд\n"
          ]
        }
      ]
    },
    {
      "cell_type": "markdown",
      "source": [
        "## **Задание 3**\n",
        "Оцените достоинства, недостатки и сложность изученных методов сортировок."
      ],
      "metadata": {
        "id": "gc1tq06LLlZM"
      }
    },
    {
      "cell_type": "code",
      "source": [
        "arr = [random.randint(0, 1000) for _ in range(10000)]\n",
        "\n",
        "quicksort_time = timeit.timeit(lambda: quicksort(arr), number=100)\n",
        "combsort_time = timeit.timeit(lambda: combsort(arr), number=100)\n",
        "\n",
        "print(f\"Время выполнения быстрой сортировки: {quicksort_time:.5f} секунд\")\n",
        "print(f\"Время выполнения сортировки расческой: {combsort_time:.5f} секунд\")\n",
        "\n",
        "bucket_sort_time = timeit.timeit(lambda: bucket_sort(arr), number=100)\n",
        "merge_sort_time = timeit.timeit(lambda: merge_sort(arr), number=100)\n",
        "heapsort_time = timeit.timeit(lambda: heapSort(arr), number=100)\n",
        "\n",
        "print(f\"Время выполнения блочной сортировки: {bucket_sort_time:.5f} секунд\")\n",
        "print(f\"Время выполнения сортировки слиянием: {merge_sort_time:.5f} секунд\")\n",
        "print(f\"Время выполнения пирамидальной сортировки: {heapsort_time:.5f} секунд\")"
      ],
      "metadata": {
        "colab": {
          "base_uri": "https://localhost:8080/"
        },
        "id": "hxx0XeXaWgwS",
        "outputId": "27b8a444-09d9-4792-b6f5-fe23854386fc"
      },
      "execution_count": null,
      "outputs": [
        {
          "output_type": "stream",
          "name": "stdout",
          "text": [
            "Время выполнения быстрой сортировки: 2.11139 секунд\n",
            "Время выполнения сортировки расческой: 6.42885 секунд\n",
            "Время выполнения блочной сортировки: 1.14167 секунд\n",
            "Время выполнения сортировки слиянием: 4.24257 секунд\n",
            "Время выполнения пирамидальной сортировки: 8.36554 секунд\n"
          ]
        }
      ]
    }
  ]
}